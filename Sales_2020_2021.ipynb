{
 "cells": [
  {
   "cell_type": "markdown",
   "id": "8f474a9c",
   "metadata": {},
   "source": [
    "# 1. Import Pakages:"
   ]
  },
  {
   "cell_type": "code",
   "execution_count": 7,
   "id": "f316b9cf",
   "metadata": {},
   "outputs": [],
   "source": [
    "import pandas as pd\n",
    "import numpy as np\n",
    "import matplotlib.pyplot as plt\n",
    "import os\n",
    "import warnings\n",
    "warnings.simplefilter(\"ignore\")"
   ]
  },
  {
   "cell_type": "markdown",
   "id": "536d101e",
   "metadata": {},
   "source": [
    "# 2. List of Files in the Directory 📃"
   ]
  },
  {
   "cell_type": "code",
   "execution_count": 8,
   "id": "0cfa3c4b",
   "metadata": {},
   "outputs": [],
   "source": [
    "files = [file for file in os.listdir('Sales Data')]"
   ]
  },
  {
   "cell_type": "code",
   "execution_count": 9,
   "id": "3ed47e69",
   "metadata": {},
   "outputs": [
    {
     "data": {
      "text/plain": [
       "['Sales_April_2020.csv',\n",
       " 'Sales_April_2021.csv',\n",
       " 'Sales_August_2020.csv',\n",
       " 'Sales_August_2021.csv',\n",
       " 'Sales_December_2020.csv',\n",
       " 'Sales_December_2021.csv',\n",
       " 'Sales_February_2020.csv',\n",
       " 'Sales_February_2021.csv',\n",
       " 'Sales_January_2020.csv',\n",
       " 'Sales_January_2021.csv',\n",
       " 'Sales_July_2020.csv',\n",
       " 'Sales_July_2021.csv',\n",
       " 'Sales_June_2020.csv',\n",
       " 'Sales_June_2021.csv',\n",
       " 'Sales_March_2020.csv',\n",
       " 'Sales_March_2021.csv',\n",
       " 'Sales_May_2020.csv',\n",
       " 'Sales_May_2021.csv',\n",
       " 'Sales_November_2020.csv',\n",
       " 'Sales_November_2021.csv',\n",
       " 'Sales_October_2020.csv',\n",
       " 'Sales_October_2021.csv',\n",
       " 'Sales_September_2020.csv',\n",
       " 'Sales_September_2021.csv']"
      ]
     },
     "execution_count": 9,
     "metadata": {},
     "output_type": "execute_result"
    }
   ],
   "source": [
    "files"
   ]
  },
  {
   "cell_type": "markdown",
   "id": "dd2c9109",
   "metadata": {},
   "source": [
    "## 2.1. Combine all 24 Months into a Single File."
   ]
  },
  {
   "cell_type": "code",
   "execution_count": 10,
   "id": "1d0ca7c1",
   "metadata": {},
   "outputs": [],
   "source": [
    "# Create an empty DataFrame to store the combined data\n",
    "df_final = pd.DataFrame()"
   ]
  },
  {
   "cell_type": "code",
   "execution_count": 11,
   "id": "40e2d967",
   "metadata": {},
   "outputs": [],
   "source": [
    "# Loop through each file and read data into the combined DataFrame\n",
    "for file in files:\n",
    "    df = pd.read_csv('Sales Data/'+file)\n",
    "    df_final = pd.concat([df_final,df])"
   ]
  },
  {
   "cell_type": "code",
   "execution_count": 12,
   "id": "c74436c4",
   "metadata": {},
   "outputs": [
    {
     "data": {
      "text/html": [
       "<div>\n",
       "<style scoped>\n",
       "    .dataframe tbody tr th:only-of-type {\n",
       "        vertical-align: middle;\n",
       "    }\n",
       "\n",
       "    .dataframe tbody tr th {\n",
       "        vertical-align: top;\n",
       "    }\n",
       "\n",
       "    .dataframe thead th {\n",
       "        text-align: right;\n",
       "    }\n",
       "</style>\n",
       "<table border=\"1\" class=\"dataframe\">\n",
       "  <thead>\n",
       "    <tr style=\"text-align: right;\">\n",
       "      <th></th>\n",
       "      <th>Order ID</th>\n",
       "      <th>Product</th>\n",
       "      <th>Quantity Ordered</th>\n",
       "      <th>Price Each</th>\n",
       "      <th>Order Date</th>\n",
       "      <th>Purchase Address</th>\n",
       "    </tr>\n",
       "  </thead>\n",
       "  <tbody>\n",
       "    <tr>\n",
       "      <th>0</th>\n",
       "      <td>171654</td>\n",
       "      <td>USB-C Charging Cable</td>\n",
       "      <td>1</td>\n",
       "      <td>11.95</td>\n",
       "      <td>04/22/20 22:27</td>\n",
       "      <td>784 Pine St, Los Angeles, CA 90001</td>\n",
       "    </tr>\n",
       "    <tr>\n",
       "      <th>1</th>\n",
       "      <td>171655</td>\n",
       "      <td>Wired Headphones</td>\n",
       "      <td>2</td>\n",
       "      <td>11.99</td>\n",
       "      <td>04/02/20 15:14</td>\n",
       "      <td>513 North St, Boston, MA 02215</td>\n",
       "    </tr>\n",
       "    <tr>\n",
       "      <th>2</th>\n",
       "      <td>171656</td>\n",
       "      <td>Bose SoundSport Headphones</td>\n",
       "      <td>1</td>\n",
       "      <td>99.99</td>\n",
       "      <td>04/30/20 20:09</td>\n",
       "      <td>480 Maple St, Los Angeles, CA 90001</td>\n",
       "    </tr>\n",
       "    <tr>\n",
       "      <th>3</th>\n",
       "      <td>171657</td>\n",
       "      <td>Wired Headphones</td>\n",
       "      <td>1</td>\n",
       "      <td>11.99</td>\n",
       "      <td>04/05/20 00:23</td>\n",
       "      <td>5 Pine St, San Francisco, CA 94016</td>\n",
       "    </tr>\n",
       "    <tr>\n",
       "      <th>4</th>\n",
       "      <td>171658</td>\n",
       "      <td>AAA Batteries (4-pack)</td>\n",
       "      <td>2</td>\n",
       "      <td>2.99</td>\n",
       "      <td>04/07/20 10:36</td>\n",
       "      <td>95 Lake St, New York City, NY 10001</td>\n",
       "    </tr>\n",
       "    <tr>\n",
       "      <th>...</th>\n",
       "      <td>...</td>\n",
       "      <td>...</td>\n",
       "      <td>...</td>\n",
       "      <td>...</td>\n",
       "      <td>...</td>\n",
       "      <td>...</td>\n",
       "    </tr>\n",
       "    <tr>\n",
       "      <th>17116</th>\n",
       "      <td>250343</td>\n",
       "      <td>Wired Headphones</td>\n",
       "      <td>1</td>\n",
       "      <td>11.99</td>\n",
       "      <td>09/13/21 21:20</td>\n",
       "      <td>981 West St, San Francisco, CA 94016</td>\n",
       "    </tr>\n",
       "    <tr>\n",
       "      <th>17117</th>\n",
       "      <td>250344</td>\n",
       "      <td>Bose SoundSport Headphones</td>\n",
       "      <td>1</td>\n",
       "      <td>99.99</td>\n",
       "      <td>09/15/21 15:41</td>\n",
       "      <td>16 Highland St, Los Angeles, CA 90001</td>\n",
       "    </tr>\n",
       "    <tr>\n",
       "      <th>17118</th>\n",
       "      <td>250345</td>\n",
       "      <td>AAA Batteries (4-pack)</td>\n",
       "      <td>3</td>\n",
       "      <td>2.99</td>\n",
       "      <td>09/15/21 17:13</td>\n",
       "      <td>630 South St, Los Angeles, CA 90001</td>\n",
       "    </tr>\n",
       "    <tr>\n",
       "      <th>17119</th>\n",
       "      <td>250346</td>\n",
       "      <td>Wired Headphones</td>\n",
       "      <td>1</td>\n",
       "      <td>11.99</td>\n",
       "      <td>09/25/21 08:15</td>\n",
       "      <td>626 Adams St, San Francisco, CA 94016</td>\n",
       "    </tr>\n",
       "    <tr>\n",
       "      <th>17120</th>\n",
       "      <td>250347</td>\n",
       "      <td>Bose SoundSport Headphones</td>\n",
       "      <td>1</td>\n",
       "      <td>99.99</td>\n",
       "      <td>09/01/21 20:17</td>\n",
       "      <td>269 Jefferson St, Boston, MA 02215</td>\n",
       "    </tr>\n",
       "  </tbody>\n",
       "</table>\n",
       "<p>368935 rows × 6 columns</p>\n",
       "</div>"
      ],
      "text/plain": [
       "      Order ID                     Product Quantity Ordered Price Each  \\\n",
       "0       171654        USB-C Charging Cable                1      11.95   \n",
       "1       171655            Wired Headphones                2      11.99   \n",
       "2       171656  Bose SoundSport Headphones                1      99.99   \n",
       "3       171657            Wired Headphones                1      11.99   \n",
       "4       171658      AAA Batteries (4-pack)                2       2.99   \n",
       "...        ...                         ...              ...        ...   \n",
       "17116   250343            Wired Headphones                1      11.99   \n",
       "17117   250344  Bose SoundSport Headphones                1      99.99   \n",
       "17118   250345      AAA Batteries (4-pack)                3       2.99   \n",
       "17119   250346            Wired Headphones                1      11.99   \n",
       "17120   250347  Bose SoundSport Headphones                1      99.99   \n",
       "\n",
       "           Order Date                       Purchase Address  \n",
       "0      04/22/20 22:27     784 Pine St, Los Angeles, CA 90001  \n",
       "1      04/02/20 15:14         513 North St, Boston, MA 02215  \n",
       "2      04/30/20 20:09    480 Maple St, Los Angeles, CA 90001  \n",
       "3      04/05/20 00:23     5 Pine St, San Francisco, CA 94016  \n",
       "4      04/07/20 10:36    95 Lake St, New York City, NY 10001  \n",
       "...               ...                                    ...  \n",
       "17116  09/13/21 21:20   981 West St, San Francisco, CA 94016  \n",
       "17117  09/15/21 15:41  16 Highland St, Los Angeles, CA 90001  \n",
       "17118  09/15/21 17:13    630 South St, Los Angeles, CA 90001  \n",
       "17119  09/25/21 08:15  626 Adams St, San Francisco, CA 94016  \n",
       "17120  09/01/21 20:17     269 Jefferson St, Boston, MA 02215  \n",
       "\n",
       "[368935 rows x 6 columns]"
      ]
     },
     "execution_count": 12,
     "metadata": {},
     "output_type": "execute_result"
    }
   ],
   "source": [
    "df_final"
   ]
  },
  {
   "cell_type": "markdown",
   "id": "0ecea082",
   "metadata": {},
   "source": [
    "## 2.2. Drop Repeated Headers"
   ]
  },
  {
   "cell_type": "markdown",
   "id": "3ecd0d40",
   "metadata": {},
   "source": [
    "Due to Combine the Data Set of 24 Months the Headers got Repeated."
   ]
  },
  {
   "cell_type": "code",
   "execution_count": 13,
   "id": "9d6f3374",
   "metadata": {},
   "outputs": [
    {
     "data": {
      "text/html": [
       "<div>\n",
       "<style scoped>\n",
       "    .dataframe tbody tr th:only-of-type {\n",
       "        vertical-align: middle;\n",
       "    }\n",
       "\n",
       "    .dataframe tbody tr th {\n",
       "        vertical-align: top;\n",
       "    }\n",
       "\n",
       "    .dataframe thead th {\n",
       "        text-align: right;\n",
       "    }\n",
       "</style>\n",
       "<table border=\"1\" class=\"dataframe\">\n",
       "  <thead>\n",
       "    <tr style=\"text-align: right;\">\n",
       "      <th></th>\n",
       "      <th>Order ID</th>\n",
       "      <th>Product</th>\n",
       "      <th>Quantity Ordered</th>\n",
       "      <th>Price Each</th>\n",
       "      <th>Order Date</th>\n",
       "      <th>Purchase Address</th>\n",
       "    </tr>\n",
       "  </thead>\n",
       "  <tbody>\n",
       "    <tr>\n",
       "      <th>21</th>\n",
       "      <td>Order ID</td>\n",
       "      <td>Product</td>\n",
       "      <td>Quantity Ordered</td>\n",
       "      <td>Price Each</td>\n",
       "      <td>Order Date</td>\n",
       "      <td>Purchase Address</td>\n",
       "    </tr>\n",
       "    <tr>\n",
       "      <th>362</th>\n",
       "      <td>Order ID</td>\n",
       "      <td>Product</td>\n",
       "      <td>Quantity Ordered</td>\n",
       "      <td>Price Each</td>\n",
       "      <td>Order Date</td>\n",
       "      <td>Purchase Address</td>\n",
       "    </tr>\n",
       "    <tr>\n",
       "      <th>692</th>\n",
       "      <td>Order ID</td>\n",
       "      <td>Product</td>\n",
       "      <td>Quantity Ordered</td>\n",
       "      <td>Price Each</td>\n",
       "      <td>Order Date</td>\n",
       "      <td>Purchase Address</td>\n",
       "    </tr>\n",
       "    <tr>\n",
       "      <th>903</th>\n",
       "      <td>Order ID</td>\n",
       "      <td>Product</td>\n",
       "      <td>Quantity Ordered</td>\n",
       "      <td>Price Each</td>\n",
       "      <td>Order Date</td>\n",
       "      <td>Purchase Address</td>\n",
       "    </tr>\n",
       "    <tr>\n",
       "      <th>1894</th>\n",
       "      <td>Order ID</td>\n",
       "      <td>Product</td>\n",
       "      <td>Quantity Ordered</td>\n",
       "      <td>Price Each</td>\n",
       "      <td>Order Date</td>\n",
       "      <td>Purchase Address</td>\n",
       "    </tr>\n",
       "  </tbody>\n",
       "</table>\n",
       "</div>"
      ],
      "text/plain": [
       "      Order ID  Product  Quantity Ordered  Price Each  Order Date  \\\n",
       "21    Order ID  Product  Quantity Ordered  Price Each  Order Date   \n",
       "362   Order ID  Product  Quantity Ordered  Price Each  Order Date   \n",
       "692   Order ID  Product  Quantity Ordered  Price Each  Order Date   \n",
       "903   Order ID  Product  Quantity Ordered  Price Each  Order Date   \n",
       "1894  Order ID  Product  Quantity Ordered  Price Each  Order Date   \n",
       "\n",
       "      Purchase Address  \n",
       "21    Purchase Address  \n",
       "362   Purchase Address  \n",
       "692   Purchase Address  \n",
       "903   Purchase Address  \n",
       "1894  Purchase Address  "
      ]
     },
     "execution_count": 13,
     "metadata": {},
     "output_type": "execute_result"
    }
   ],
   "source": [
    "df_final[df_final['Order ID'] == 'Order ID'].head()"
   ]
  },
  {
   "cell_type": "markdown",
   "id": "6a701476",
   "metadata": {},
   "source": [
    "### 2.3. Select All Rows Except Rows containing Header Names."
   ]
  },
  {
   "cell_type": "code",
   "execution_count": 14,
   "id": "d808fd26",
   "metadata": {},
   "outputs": [],
   "source": [
    "df_final = df_final[df_final['Order ID'] != 'Order ID']"
   ]
  },
  {
   "cell_type": "code",
   "execution_count": 15,
   "id": "5e5724b9",
   "metadata": {},
   "outputs": [
    {
     "data": {
      "text/html": [
       "<div>\n",
       "<style scoped>\n",
       "    .dataframe tbody tr th:only-of-type {\n",
       "        vertical-align: middle;\n",
       "    }\n",
       "\n",
       "    .dataframe tbody tr th {\n",
       "        vertical-align: top;\n",
       "    }\n",
       "\n",
       "    .dataframe thead th {\n",
       "        text-align: right;\n",
       "    }\n",
       "</style>\n",
       "<table border=\"1\" class=\"dataframe\">\n",
       "  <thead>\n",
       "    <tr style=\"text-align: right;\">\n",
       "      <th></th>\n",
       "      <th>Order ID</th>\n",
       "      <th>Product</th>\n",
       "      <th>Quantity Ordered</th>\n",
       "      <th>Price Each</th>\n",
       "      <th>Order Date</th>\n",
       "      <th>Purchase Address</th>\n",
       "    </tr>\n",
       "  </thead>\n",
       "  <tbody>\n",
       "    <tr>\n",
       "      <th>0</th>\n",
       "      <td>171654</td>\n",
       "      <td>USB-C Charging Cable</td>\n",
       "      <td>1</td>\n",
       "      <td>11.95</td>\n",
       "      <td>04/22/20 22:27</td>\n",
       "      <td>784 Pine St, Los Angeles, CA 90001</td>\n",
       "    </tr>\n",
       "    <tr>\n",
       "      <th>1</th>\n",
       "      <td>171655</td>\n",
       "      <td>Wired Headphones</td>\n",
       "      <td>2</td>\n",
       "      <td>11.99</td>\n",
       "      <td>04/02/20 15:14</td>\n",
       "      <td>513 North St, Boston, MA 02215</td>\n",
       "    </tr>\n",
       "    <tr>\n",
       "      <th>2</th>\n",
       "      <td>171656</td>\n",
       "      <td>Bose SoundSport Headphones</td>\n",
       "      <td>1</td>\n",
       "      <td>99.99</td>\n",
       "      <td>04/30/20 20:09</td>\n",
       "      <td>480 Maple St, Los Angeles, CA 90001</td>\n",
       "    </tr>\n",
       "    <tr>\n",
       "      <th>3</th>\n",
       "      <td>171657</td>\n",
       "      <td>Wired Headphones</td>\n",
       "      <td>1</td>\n",
       "      <td>11.99</td>\n",
       "      <td>04/05/20 00:23</td>\n",
       "      <td>5 Pine St, San Francisco, CA 94016</td>\n",
       "    </tr>\n",
       "    <tr>\n",
       "      <th>4</th>\n",
       "      <td>171658</td>\n",
       "      <td>AAA Batteries (4-pack)</td>\n",
       "      <td>2</td>\n",
       "      <td>2.99</td>\n",
       "      <td>04/07/20 10:36</td>\n",
       "      <td>95 Lake St, New York City, NY 10001</td>\n",
       "    </tr>\n",
       "    <tr>\n",
       "      <th>...</th>\n",
       "      <td>...</td>\n",
       "      <td>...</td>\n",
       "      <td>...</td>\n",
       "      <td>...</td>\n",
       "      <td>...</td>\n",
       "      <td>...</td>\n",
       "    </tr>\n",
       "    <tr>\n",
       "      <th>17116</th>\n",
       "      <td>250343</td>\n",
       "      <td>Wired Headphones</td>\n",
       "      <td>1</td>\n",
       "      <td>11.99</td>\n",
       "      <td>09/13/21 21:20</td>\n",
       "      <td>981 West St, San Francisco, CA 94016</td>\n",
       "    </tr>\n",
       "    <tr>\n",
       "      <th>17117</th>\n",
       "      <td>250344</td>\n",
       "      <td>Bose SoundSport Headphones</td>\n",
       "      <td>1</td>\n",
       "      <td>99.99</td>\n",
       "      <td>09/15/21 15:41</td>\n",
       "      <td>16 Highland St, Los Angeles, CA 90001</td>\n",
       "    </tr>\n",
       "    <tr>\n",
       "      <th>17118</th>\n",
       "      <td>250345</td>\n",
       "      <td>AAA Batteries (4-pack)</td>\n",
       "      <td>3</td>\n",
       "      <td>2.99</td>\n",
       "      <td>09/15/21 17:13</td>\n",
       "      <td>630 South St, Los Angeles, CA 90001</td>\n",
       "    </tr>\n",
       "    <tr>\n",
       "      <th>17119</th>\n",
       "      <td>250346</td>\n",
       "      <td>Wired Headphones</td>\n",
       "      <td>1</td>\n",
       "      <td>11.99</td>\n",
       "      <td>09/25/21 08:15</td>\n",
       "      <td>626 Adams St, San Francisco, CA 94016</td>\n",
       "    </tr>\n",
       "    <tr>\n",
       "      <th>17120</th>\n",
       "      <td>250347</td>\n",
       "      <td>Bose SoundSport Headphones</td>\n",
       "      <td>1</td>\n",
       "      <td>99.99</td>\n",
       "      <td>09/01/21 20:17</td>\n",
       "      <td>269 Jefferson St, Boston, MA 02215</td>\n",
       "    </tr>\n",
       "  </tbody>\n",
       "</table>\n",
       "<p>368288 rows × 6 columns</p>\n",
       "</div>"
      ],
      "text/plain": [
       "      Order ID                     Product Quantity Ordered Price Each  \\\n",
       "0       171654        USB-C Charging Cable                1      11.95   \n",
       "1       171655            Wired Headphones                2      11.99   \n",
       "2       171656  Bose SoundSport Headphones                1      99.99   \n",
       "3       171657            Wired Headphones                1      11.99   \n",
       "4       171658      AAA Batteries (4-pack)                2       2.99   \n",
       "...        ...                         ...              ...        ...   \n",
       "17116   250343            Wired Headphones                1      11.99   \n",
       "17117   250344  Bose SoundSport Headphones                1      99.99   \n",
       "17118   250345      AAA Batteries (4-pack)                3       2.99   \n",
       "17119   250346            Wired Headphones                1      11.99   \n",
       "17120   250347  Bose SoundSport Headphones                1      99.99   \n",
       "\n",
       "           Order Date                       Purchase Address  \n",
       "0      04/22/20 22:27     784 Pine St, Los Angeles, CA 90001  \n",
       "1      04/02/20 15:14         513 North St, Boston, MA 02215  \n",
       "2      04/30/20 20:09    480 Maple St, Los Angeles, CA 90001  \n",
       "3      04/05/20 00:23     5 Pine St, San Francisco, CA 94016  \n",
       "4      04/07/20 10:36    95 Lake St, New York City, NY 10001  \n",
       "...               ...                                    ...  \n",
       "17116  09/13/21 21:20   981 West St, San Francisco, CA 94016  \n",
       "17117  09/15/21 15:41  16 Highland St, Los Angeles, CA 90001  \n",
       "17118  09/15/21 17:13    630 South St, Los Angeles, CA 90001  \n",
       "17119  09/25/21 08:15  626 Adams St, San Francisco, CA 94016  \n",
       "17120  09/01/21 20:17     269 Jefferson St, Boston, MA 02215  \n",
       "\n",
       "[368288 rows x 6 columns]"
      ]
     },
     "execution_count": 15,
     "metadata": {},
     "output_type": "execute_result"
    }
   ],
   "source": [
    "df_final"
   ]
  },
  {
   "cell_type": "markdown",
   "id": "f8b54d41",
   "metadata": {},
   "source": [
    "# 3. Cleaning and preprocessing"
   ]
  },
  {
   "cell_type": "markdown",
   "id": "2e5db923",
   "metadata": {},
   "source": [
    "## 3.1.Check Missing Values"
   ]
  },
  {
   "cell_type": "code",
   "execution_count": 16,
   "id": "84000ba4",
   "metadata": {},
   "outputs": [
    {
     "data": {
      "text/plain": [
       "Order ID            1078\n",
       "Product             1078\n",
       "Quantity Ordered    1078\n",
       "Price Each          1078\n",
       "Order Date          1078\n",
       "Purchase Address    1078\n",
       "dtype: int64"
      ]
     },
     "execution_count": 16,
     "metadata": {},
     "output_type": "execute_result"
    }
   ],
   "source": [
    "df_final.isnull().sum()"
   ]
  },
  {
   "cell_type": "code",
   "execution_count": 17,
   "id": "00ddff22",
   "metadata": {},
   "outputs": [
    {
     "data": {
      "text/html": [
       "<div>\n",
       "<style scoped>\n",
       "    .dataframe tbody tr th:only-of-type {\n",
       "        vertical-align: middle;\n",
       "    }\n",
       "\n",
       "    .dataframe tbody tr th {\n",
       "        vertical-align: top;\n",
       "    }\n",
       "\n",
       "    .dataframe thead th {\n",
       "        text-align: right;\n",
       "    }\n",
       "</style>\n",
       "<table border=\"1\" class=\"dataframe\">\n",
       "  <thead>\n",
       "    <tr style=\"text-align: right;\">\n",
       "      <th></th>\n",
       "      <th>Order ID</th>\n",
       "      <th>Product</th>\n",
       "      <th>Quantity Ordered</th>\n",
       "      <th>Price Each</th>\n",
       "      <th>Order Date</th>\n",
       "      <th>Purchase Address</th>\n",
       "    </tr>\n",
       "  </thead>\n",
       "  <tbody>\n",
       "    <tr>\n",
       "      <th>254</th>\n",
       "      <td>NaN</td>\n",
       "      <td>NaN</td>\n",
       "      <td>NaN</td>\n",
       "      <td>NaN</td>\n",
       "      <td>NaN</td>\n",
       "      <td>NaN</td>\n",
       "    </tr>\n",
       "    <tr>\n",
       "      <th>665</th>\n",
       "      <td>NaN</td>\n",
       "      <td>NaN</td>\n",
       "      <td>NaN</td>\n",
       "      <td>NaN</td>\n",
       "      <td>NaN</td>\n",
       "      <td>NaN</td>\n",
       "    </tr>\n",
       "    <tr>\n",
       "      <th>832</th>\n",
       "      <td>NaN</td>\n",
       "      <td>NaN</td>\n",
       "      <td>NaN</td>\n",
       "      <td>NaN</td>\n",
       "      <td>NaN</td>\n",
       "      <td>NaN</td>\n",
       "    </tr>\n",
       "    <tr>\n",
       "      <th>1267</th>\n",
       "      <td>NaN</td>\n",
       "      <td>NaN</td>\n",
       "      <td>NaN</td>\n",
       "      <td>NaN</td>\n",
       "      <td>NaN</td>\n",
       "      <td>NaN</td>\n",
       "    </tr>\n",
       "    <tr>\n",
       "      <th>1298</th>\n",
       "      <td>NaN</td>\n",
       "      <td>NaN</td>\n",
       "      <td>NaN</td>\n",
       "      <td>NaN</td>\n",
       "      <td>NaN</td>\n",
       "      <td>NaN</td>\n",
       "    </tr>\n",
       "  </tbody>\n",
       "</table>\n",
       "</div>"
      ],
      "text/plain": [
       "     Order ID Product Quantity Ordered Price Each Order Date Purchase Address\n",
       "254       NaN     NaN              NaN        NaN        NaN              NaN\n",
       "665       NaN     NaN              NaN        NaN        NaN              NaN\n",
       "832       NaN     NaN              NaN        NaN        NaN              NaN\n",
       "1267      NaN     NaN              NaN        NaN        NaN              NaN\n",
       "1298      NaN     NaN              NaN        NaN        NaN              NaN"
      ]
     },
     "execution_count": 17,
     "metadata": {},
     "output_type": "execute_result"
    }
   ],
   "source": [
    "df_final[df_final.isna().any(axis=1)].head()"
   ]
  },
  {
   "cell_type": "markdown",
   "id": "7afd37a0",
   "metadata": {},
   "source": [
    "## Note:\n",
    "#### - Based on observation, the dataset includes missing values, and it seems that entire rows consist of NaN.\n",
    "#### - Directly Drop those Rows."
   ]
  },
  {
   "cell_type": "code",
   "execution_count": 18,
   "id": "d452a718",
   "metadata": {},
   "outputs": [],
   "source": [
    "df_final = df_final.dropna()"
   ]
  },
  {
   "cell_type": "code",
   "execution_count": 19,
   "id": "a0ff0f58",
   "metadata": {},
   "outputs": [
    {
     "data": {
      "text/plain": [
       "Order ID            0\n",
       "Product             0\n",
       "Quantity Ordered    0\n",
       "Price Each          0\n",
       "Order Date          0\n",
       "Purchase Address    0\n",
       "dtype: int64"
      ]
     },
     "execution_count": 19,
     "metadata": {},
     "output_type": "execute_result"
    }
   ],
   "source": [
    "df_final.isnull().sum()"
   ]
  },
  {
   "cell_type": "markdown",
   "id": "db53f080",
   "metadata": {},
   "source": [
    "## 3.2.Check duplicates"
   ]
  },
  {
   "cell_type": "code",
   "execution_count": 20,
   "id": "74a4aaee",
   "metadata": {},
   "outputs": [
    {
     "data": {
      "text/plain": [
       "480"
      ]
     },
     "execution_count": 20,
     "metadata": {},
     "output_type": "execute_result"
    }
   ],
   "source": [
    "df_final.duplicated().sum()"
   ]
  },
  {
   "cell_type": "code",
   "execution_count": 21,
   "id": "3079fdf3",
   "metadata": {},
   "outputs": [
    {
     "name": "stdout",
     "output_type": "stream",
     "text": [
      "      Order ID                   Product Quantity Ordered Price Each  \\\n",
      "240     171884     AA Batteries (4-pack)                1       3.84   \n",
      "241     171884     AA Batteries (4-pack)                1       3.84   \n",
      "524     172156  Lightning Charging Cable                1      14.95   \n",
      "525     172156  Lightning Charging Cable                1      14.95   \n",
      "820     172439     AA Batteries (4-pack)                2       3.84   \n",
      "...        ...                       ...              ...        ...   \n",
      "13356   246744          Wired Headphones                1      11.99   \n",
      "13453   246836  Lightning Charging Cable                1      14.95   \n",
      "13454   246836  Lightning Charging Cable                1      14.95   \n",
      "15820   249100    AAA Batteries (4-pack)                1       2.99   \n",
      "15821   249100    AAA Batteries (4-pack)                1       2.99   \n",
      "\n",
      "           Order Date                        Purchase Address  \n",
      "240    04/09/20 12:22        921 Church St, Seattle, WA 98101  \n",
      "241    04/09/20 12:22        921 Church St, Seattle, WA 98101  \n",
      "524    04/25/20 11:06           138 13th St, Boston, MA 02215  \n",
      "525    04/25/20 11:06           138 13th St, Boston, MA 02215  \n",
      "820    04/19/20 13:11      782 13th St, Los Angeles, CA 90001  \n",
      "...               ...                                     ...  \n",
      "13356  09/01/21 16:44       36 10th St, Los Angeles, CA 90001  \n",
      "13453  09/01/21 13:37  643 Cherry St, San Francisco, CA 94016  \n",
      "13454  09/01/21 13:37  643 Cherry St, San Francisco, CA 94016  \n",
      "15820  09/19/21 17:34   599 River St, San Francisco, CA 94016  \n",
      "15821  09/19/21 17:34   599 River St, San Francisco, CA 94016  \n",
      "\n",
      "[960 rows x 6 columns]\n"
     ]
    }
   ],
   "source": [
    "duplicates = df_final[df_final.duplicated(keep=False)]\n",
    "\n",
    "# print the rows with identical values\n",
    "print(duplicates)"
   ]
  },
  {
   "cell_type": "markdown",
   "id": "8815129f",
   "metadata": {},
   "source": [
    "**Note:**\n",
    "- I decided that these values are **duplicates** because they contain the same invoice number and the same date and time. There is also a column dedicated to quantities, so if the product is selected more than once, it will appear in the quantities field.\n",
    "- Drop all dublicates values."
   ]
  },
  {
   "cell_type": "code",
   "execution_count": 22,
   "id": "7d012c91",
   "metadata": {},
   "outputs": [],
   "source": [
    "df_final.drop_duplicates(keep=False, inplace=True)"
   ]
  },
  {
   "cell_type": "code",
   "execution_count": 23,
   "id": "28b1427b",
   "metadata": {},
   "outputs": [
    {
     "data": {
      "text/html": [
       "<div>\n",
       "<style scoped>\n",
       "    .dataframe tbody tr th:only-of-type {\n",
       "        vertical-align: middle;\n",
       "    }\n",
       "\n",
       "    .dataframe tbody tr th {\n",
       "        vertical-align: top;\n",
       "    }\n",
       "\n",
       "    .dataframe thead th {\n",
       "        text-align: right;\n",
       "    }\n",
       "</style>\n",
       "<table border=\"1\" class=\"dataframe\">\n",
       "  <thead>\n",
       "    <tr style=\"text-align: right;\">\n",
       "      <th></th>\n",
       "      <th>Order ID</th>\n",
       "      <th>Product</th>\n",
       "      <th>Quantity Ordered</th>\n",
       "      <th>Price Each</th>\n",
       "      <th>Order Date</th>\n",
       "      <th>Purchase Address</th>\n",
       "    </tr>\n",
       "  </thead>\n",
       "  <tbody>\n",
       "    <tr>\n",
       "      <th>0</th>\n",
       "      <td>171654</td>\n",
       "      <td>USB-C Charging Cable</td>\n",
       "      <td>1</td>\n",
       "      <td>11.95</td>\n",
       "      <td>04/22/20 22:27</td>\n",
       "      <td>784 Pine St, Los Angeles, CA 90001</td>\n",
       "    </tr>\n",
       "    <tr>\n",
       "      <th>1</th>\n",
       "      <td>171655</td>\n",
       "      <td>Wired Headphones</td>\n",
       "      <td>2</td>\n",
       "      <td>11.99</td>\n",
       "      <td>04/02/20 15:14</td>\n",
       "      <td>513 North St, Boston, MA 02215</td>\n",
       "    </tr>\n",
       "    <tr>\n",
       "      <th>2</th>\n",
       "      <td>171656</td>\n",
       "      <td>Bose SoundSport Headphones</td>\n",
       "      <td>1</td>\n",
       "      <td>99.99</td>\n",
       "      <td>04/30/20 20:09</td>\n",
       "      <td>480 Maple St, Los Angeles, CA 90001</td>\n",
       "    </tr>\n",
       "    <tr>\n",
       "      <th>3</th>\n",
       "      <td>171657</td>\n",
       "      <td>Wired Headphones</td>\n",
       "      <td>1</td>\n",
       "      <td>11.99</td>\n",
       "      <td>04/05/20 00:23</td>\n",
       "      <td>5 Pine St, San Francisco, CA 94016</td>\n",
       "    </tr>\n",
       "    <tr>\n",
       "      <th>4</th>\n",
       "      <td>171658</td>\n",
       "      <td>AAA Batteries (4-pack)</td>\n",
       "      <td>2</td>\n",
       "      <td>2.99</td>\n",
       "      <td>04/07/20 10:36</td>\n",
       "      <td>95 Lake St, New York City, NY 10001</td>\n",
       "    </tr>\n",
       "    <tr>\n",
       "      <th>...</th>\n",
       "      <td>...</td>\n",
       "      <td>...</td>\n",
       "      <td>...</td>\n",
       "      <td>...</td>\n",
       "      <td>...</td>\n",
       "      <td>...</td>\n",
       "    </tr>\n",
       "    <tr>\n",
       "      <th>17116</th>\n",
       "      <td>250343</td>\n",
       "      <td>Wired Headphones</td>\n",
       "      <td>1</td>\n",
       "      <td>11.99</td>\n",
       "      <td>09/13/21 21:20</td>\n",
       "      <td>981 West St, San Francisco, CA 94016</td>\n",
       "    </tr>\n",
       "    <tr>\n",
       "      <th>17117</th>\n",
       "      <td>250344</td>\n",
       "      <td>Bose SoundSport Headphones</td>\n",
       "      <td>1</td>\n",
       "      <td>99.99</td>\n",
       "      <td>09/15/21 15:41</td>\n",
       "      <td>16 Highland St, Los Angeles, CA 90001</td>\n",
       "    </tr>\n",
       "    <tr>\n",
       "      <th>17118</th>\n",
       "      <td>250345</td>\n",
       "      <td>AAA Batteries (4-pack)</td>\n",
       "      <td>3</td>\n",
       "      <td>2.99</td>\n",
       "      <td>09/15/21 17:13</td>\n",
       "      <td>630 South St, Los Angeles, CA 90001</td>\n",
       "    </tr>\n",
       "    <tr>\n",
       "      <th>17119</th>\n",
       "      <td>250346</td>\n",
       "      <td>Wired Headphones</td>\n",
       "      <td>1</td>\n",
       "      <td>11.99</td>\n",
       "      <td>09/25/21 08:15</td>\n",
       "      <td>626 Adams St, San Francisco, CA 94016</td>\n",
       "    </tr>\n",
       "    <tr>\n",
       "      <th>17120</th>\n",
       "      <td>250347</td>\n",
       "      <td>Bose SoundSport Headphones</td>\n",
       "      <td>1</td>\n",
       "      <td>99.99</td>\n",
       "      <td>09/01/21 20:17</td>\n",
       "      <td>269 Jefferson St, Boston, MA 02215</td>\n",
       "    </tr>\n",
       "  </tbody>\n",
       "</table>\n",
       "<p>366250 rows × 6 columns</p>\n",
       "</div>"
      ],
      "text/plain": [
       "      Order ID                     Product Quantity Ordered Price Each  \\\n",
       "0       171654        USB-C Charging Cable                1      11.95   \n",
       "1       171655            Wired Headphones                2      11.99   \n",
       "2       171656  Bose SoundSport Headphones                1      99.99   \n",
       "3       171657            Wired Headphones                1      11.99   \n",
       "4       171658      AAA Batteries (4-pack)                2       2.99   \n",
       "...        ...                         ...              ...        ...   \n",
       "17116   250343            Wired Headphones                1      11.99   \n",
       "17117   250344  Bose SoundSport Headphones                1      99.99   \n",
       "17118   250345      AAA Batteries (4-pack)                3       2.99   \n",
       "17119   250346            Wired Headphones                1      11.99   \n",
       "17120   250347  Bose SoundSport Headphones                1      99.99   \n",
       "\n",
       "           Order Date                       Purchase Address  \n",
       "0      04/22/20 22:27     784 Pine St, Los Angeles, CA 90001  \n",
       "1      04/02/20 15:14         513 North St, Boston, MA 02215  \n",
       "2      04/30/20 20:09    480 Maple St, Los Angeles, CA 90001  \n",
       "3      04/05/20 00:23     5 Pine St, San Francisco, CA 94016  \n",
       "4      04/07/20 10:36    95 Lake St, New York City, NY 10001  \n",
       "...               ...                                    ...  \n",
       "17116  09/13/21 21:20   981 West St, San Francisco, CA 94016  \n",
       "17117  09/15/21 15:41  16 Highland St, Los Angeles, CA 90001  \n",
       "17118  09/15/21 17:13    630 South St, Los Angeles, CA 90001  \n",
       "17119  09/25/21 08:15  626 Adams St, San Francisco, CA 94016  \n",
       "17120  09/01/21 20:17     269 Jefferson St, Boston, MA 02215  \n",
       "\n",
       "[366250 rows x 6 columns]"
      ]
     },
     "execution_count": 23,
     "metadata": {},
     "output_type": "execute_result"
    }
   ],
   "source": [
    "df_final"
   ]
  },
  {
   "cell_type": "markdown",
   "id": "7ca369f6",
   "metadata": {},
   "source": [
    "## 3.3. Change the type of columns"
   ]
  },
  {
   "cell_type": "code",
   "execution_count": 24,
   "id": "2df299b0",
   "metadata": {},
   "outputs": [
    {
     "name": "stdout",
     "output_type": "stream",
     "text": [
      "<class 'pandas.core.frame.DataFrame'>\n",
      "Index: 366250 entries, 0 to 17120\n",
      "Data columns (total 6 columns):\n",
      " #   Column            Non-Null Count   Dtype \n",
      "---  ------            --------------   ----- \n",
      " 0   Order ID          366250 non-null  object\n",
      " 1   Product           366250 non-null  object\n",
      " 2   Quantity Ordered  366250 non-null  object\n",
      " 3   Price Each        366250 non-null  object\n",
      " 4   Order Date        366250 non-null  object\n",
      " 5   Purchase Address  366250 non-null  object\n",
      "dtypes: object(6)\n",
      "memory usage: 19.6+ MB\n"
     ]
    }
   ],
   "source": [
    "df_final.info()"
   ]
  },
  {
   "cell_type": "markdown",
   "id": "6b7c47ca",
   "metadata": {},
   "source": [
    "### 3.3.1.Convert data type Quantity Ordered and Price Each to numeric."
   ]
  },
  {
   "cell_type": "code",
   "execution_count": 25,
   "id": "fafa3e44",
   "metadata": {},
   "outputs": [],
   "source": [
    "df_final['Quantity Ordered'] = pd.to_numeric(df_final['Quantity Ordered'])\n",
    "df_final['Price Each'] = pd.to_numeric(df_final['Price Each'])"
   ]
  },
  {
   "cell_type": "markdown",
   "id": "f0eb1559",
   "metadata": {},
   "source": [
    "# "
   ]
  },
  {
   "cell_type": "markdown",
   "id": "efdb6b90",
   "metadata": {},
   "source": [
    "### 3.3.2.Convert data type Order Date to Datatime."
   ]
  },
  {
   "cell_type": "code",
   "execution_count": 26,
   "id": "5b957ad6",
   "metadata": {},
   "outputs": [],
   "source": [
    "df_final['Order Date'] = pd.to_datetime(df_final['Order Date'])"
   ]
  },
  {
   "cell_type": "code",
   "execution_count": 27,
   "id": "f605159d",
   "metadata": {},
   "outputs": [
    {
     "data": {
      "text/html": [
       "<div>\n",
       "<style scoped>\n",
       "    .dataframe tbody tr th:only-of-type {\n",
       "        vertical-align: middle;\n",
       "    }\n",
       "\n",
       "    .dataframe tbody tr th {\n",
       "        vertical-align: top;\n",
       "    }\n",
       "\n",
       "    .dataframe thead th {\n",
       "        text-align: right;\n",
       "    }\n",
       "</style>\n",
       "<table border=\"1\" class=\"dataframe\">\n",
       "  <thead>\n",
       "    <tr style=\"text-align: right;\">\n",
       "      <th></th>\n",
       "      <th>Order ID</th>\n",
       "      <th>Product</th>\n",
       "      <th>Quantity Ordered</th>\n",
       "      <th>Price Each</th>\n",
       "      <th>Order Date</th>\n",
       "      <th>Purchase Address</th>\n",
       "    </tr>\n",
       "  </thead>\n",
       "  <tbody>\n",
       "    <tr>\n",
       "      <th>0</th>\n",
       "      <td>171654</td>\n",
       "      <td>USB-C Charging Cable</td>\n",
       "      <td>1</td>\n",
       "      <td>11.95</td>\n",
       "      <td>2020-04-22 22:27:00</td>\n",
       "      <td>784 Pine St, Los Angeles, CA 90001</td>\n",
       "    </tr>\n",
       "    <tr>\n",
       "      <th>1</th>\n",
       "      <td>171655</td>\n",
       "      <td>Wired Headphones</td>\n",
       "      <td>2</td>\n",
       "      <td>11.99</td>\n",
       "      <td>2020-04-02 15:14:00</td>\n",
       "      <td>513 North St, Boston, MA 02215</td>\n",
       "    </tr>\n",
       "    <tr>\n",
       "      <th>2</th>\n",
       "      <td>171656</td>\n",
       "      <td>Bose SoundSport Headphones</td>\n",
       "      <td>1</td>\n",
       "      <td>99.99</td>\n",
       "      <td>2020-04-30 20:09:00</td>\n",
       "      <td>480 Maple St, Los Angeles, CA 90001</td>\n",
       "    </tr>\n",
       "    <tr>\n",
       "      <th>3</th>\n",
       "      <td>171657</td>\n",
       "      <td>Wired Headphones</td>\n",
       "      <td>1</td>\n",
       "      <td>11.99</td>\n",
       "      <td>2020-04-05 00:23:00</td>\n",
       "      <td>5 Pine St, San Francisco, CA 94016</td>\n",
       "    </tr>\n",
       "    <tr>\n",
       "      <th>4</th>\n",
       "      <td>171658</td>\n",
       "      <td>AAA Batteries (4-pack)</td>\n",
       "      <td>2</td>\n",
       "      <td>2.99</td>\n",
       "      <td>2020-04-07 10:36:00</td>\n",
       "      <td>95 Lake St, New York City, NY 10001</td>\n",
       "    </tr>\n",
       "    <tr>\n",
       "      <th>...</th>\n",
       "      <td>...</td>\n",
       "      <td>...</td>\n",
       "      <td>...</td>\n",
       "      <td>...</td>\n",
       "      <td>...</td>\n",
       "      <td>...</td>\n",
       "    </tr>\n",
       "    <tr>\n",
       "      <th>17116</th>\n",
       "      <td>250343</td>\n",
       "      <td>Wired Headphones</td>\n",
       "      <td>1</td>\n",
       "      <td>11.99</td>\n",
       "      <td>2021-09-13 21:20:00</td>\n",
       "      <td>981 West St, San Francisco, CA 94016</td>\n",
       "    </tr>\n",
       "    <tr>\n",
       "      <th>17117</th>\n",
       "      <td>250344</td>\n",
       "      <td>Bose SoundSport Headphones</td>\n",
       "      <td>1</td>\n",
       "      <td>99.99</td>\n",
       "      <td>2021-09-15 15:41:00</td>\n",
       "      <td>16 Highland St, Los Angeles, CA 90001</td>\n",
       "    </tr>\n",
       "    <tr>\n",
       "      <th>17118</th>\n",
       "      <td>250345</td>\n",
       "      <td>AAA Batteries (4-pack)</td>\n",
       "      <td>3</td>\n",
       "      <td>2.99</td>\n",
       "      <td>2021-09-15 17:13:00</td>\n",
       "      <td>630 South St, Los Angeles, CA 90001</td>\n",
       "    </tr>\n",
       "    <tr>\n",
       "      <th>17119</th>\n",
       "      <td>250346</td>\n",
       "      <td>Wired Headphones</td>\n",
       "      <td>1</td>\n",
       "      <td>11.99</td>\n",
       "      <td>2021-09-25 08:15:00</td>\n",
       "      <td>626 Adams St, San Francisco, CA 94016</td>\n",
       "    </tr>\n",
       "    <tr>\n",
       "      <th>17120</th>\n",
       "      <td>250347</td>\n",
       "      <td>Bose SoundSport Headphones</td>\n",
       "      <td>1</td>\n",
       "      <td>99.99</td>\n",
       "      <td>2021-09-01 20:17:00</td>\n",
       "      <td>269 Jefferson St, Boston, MA 02215</td>\n",
       "    </tr>\n",
       "  </tbody>\n",
       "</table>\n",
       "<p>366250 rows × 6 columns</p>\n",
       "</div>"
      ],
      "text/plain": [
       "      Order ID                     Product  Quantity Ordered  Price Each  \\\n",
       "0       171654        USB-C Charging Cable                 1       11.95   \n",
       "1       171655            Wired Headphones                 2       11.99   \n",
       "2       171656  Bose SoundSport Headphones                 1       99.99   \n",
       "3       171657            Wired Headphones                 1       11.99   \n",
       "4       171658      AAA Batteries (4-pack)                 2        2.99   \n",
       "...        ...                         ...               ...         ...   \n",
       "17116   250343            Wired Headphones                 1       11.99   \n",
       "17117   250344  Bose SoundSport Headphones                 1       99.99   \n",
       "17118   250345      AAA Batteries (4-pack)                 3        2.99   \n",
       "17119   250346            Wired Headphones                 1       11.99   \n",
       "17120   250347  Bose SoundSport Headphones                 1       99.99   \n",
       "\n",
       "               Order Date                       Purchase Address  \n",
       "0     2020-04-22 22:27:00     784 Pine St, Los Angeles, CA 90001  \n",
       "1     2020-04-02 15:14:00         513 North St, Boston, MA 02215  \n",
       "2     2020-04-30 20:09:00    480 Maple St, Los Angeles, CA 90001  \n",
       "3     2020-04-05 00:23:00     5 Pine St, San Francisco, CA 94016  \n",
       "4     2020-04-07 10:36:00    95 Lake St, New York City, NY 10001  \n",
       "...                   ...                                    ...  \n",
       "17116 2021-09-13 21:20:00   981 West St, San Francisco, CA 94016  \n",
       "17117 2021-09-15 15:41:00  16 Highland St, Los Angeles, CA 90001  \n",
       "17118 2021-09-15 17:13:00    630 South St, Los Angeles, CA 90001  \n",
       "17119 2021-09-25 08:15:00  626 Adams St, San Francisco, CA 94016  \n",
       "17120 2021-09-01 20:17:00     269 Jefferson St, Boston, MA 02215  \n",
       "\n",
       "[366250 rows x 6 columns]"
      ]
     },
     "execution_count": 27,
     "metadata": {},
     "output_type": "execute_result"
    }
   ],
   "source": [
    "df_final"
   ]
  },
  {
   "cell_type": "markdown",
   "id": "8606b962",
   "metadata": {},
   "source": [
    "# 4. Feature Engineering: "
   ]
  },
  {
   "cell_type": "markdown",
   "id": "dac76afc",
   "metadata": {},
   "source": [
    "**Add new column Sales.**"
   ]
  },
  {
   "cell_type": "code",
   "execution_count": 28,
   "id": "d944c67e",
   "metadata": {},
   "outputs": [],
   "source": [
    "df_final['Sales'] = df_final['Quantity Ordered'] * df_final['Price Each']"
   ]
  },
  {
   "cell_type": "markdown",
   "id": "52b1f936",
   "metadata": {},
   "source": [
    "**Add new Columns Month, Year, Hour and Minute.**"
   ]
  },
  {
   "cell_type": "code",
   "execution_count": 29,
   "id": "baca1a27",
   "metadata": {},
   "outputs": [],
   "source": [
    "df_final['Month'] = df_final['Order Date'].dt.month\n",
    "df_final['Year'] = df_final['Order Date'].dt.year\n",
    "df_final['Hour'] = df_final['Order Date'].dt.hour\n",
    "df_final['Minute'] = df_final['Order Date'].dt.minute"
   ]
  },
  {
   "cell_type": "markdown",
   "id": "33c91aef",
   "metadata": {},
   "source": [
    "**Extract the city and state information from the Purchase Address column.**"
   ]
  },
  {
   "cell_type": "code",
   "execution_count": 30,
   "id": "7cb24c1b",
   "metadata": {},
   "outputs": [],
   "source": [
    "#Splits the address at commas and selects the second part, Removes leading and trailing whitespaces.\n",
    "def get_city(address):\n",
    "    return address.split(\",\")[1].strip(\" \")\n",
    "\n",
    "#Splits the address at commas and selects the third part and splits the third part by spaces and selects the second part\n",
    "def get_state(address):\n",
    "    return address.split(\",\")[2].split(\" \")[1]"
   ]
  },
  {
   "cell_type": "code",
   "execution_count": 31,
   "id": "c20b360f",
   "metadata": {},
   "outputs": [],
   "source": [
    "df_final['City'] = df_final['Purchase Address'].apply(lambda x: f\"{get_city(x)}  ({get_state(x)})\")"
   ]
  },
  {
   "cell_type": "code",
   "execution_count": 32,
   "id": "1f91f876",
   "metadata": {},
   "outputs": [
    {
     "name": "stdout",
     "output_type": "stream",
     "text": [
      "Index(['Order ID', 'Product', 'Quantity Ordered', 'Price Each', 'Order Date',\n",
      "       'Purchase Address', 'Sales', 'Month', 'Year', 'Hour', 'Minute', 'City'],\n",
      "      dtype='object')\n"
     ]
    }
   ],
   "source": [
    "print(df_final.columns)"
   ]
  },
  {
   "cell_type": "markdown",
   "id": "eb3e65c0",
   "metadata": {},
   "source": [
    "# 5.  Exploratory data analysis"
   ]
  },
  {
   "cell_type": "markdown",
   "id": "2f3f9afc",
   "metadata": {},
   "source": [
    "\n",
    "<span style=\"color:red;\">**Question 1: What was the best month for sales in 2020? How much was earned that month?**.</span>"
   ]
  },
  {
   "cell_type": "code",
   "execution_count": 33,
   "id": "ba17cde5",
   "metadata": {},
   "outputs": [
    {
     "data": {
      "text/html": [
       "<div>\n",
       "<style scoped>\n",
       "    .dataframe tbody tr th:only-of-type {\n",
       "        vertical-align: middle;\n",
       "    }\n",
       "\n",
       "    .dataframe tbody tr th {\n",
       "        vertical-align: top;\n",
       "    }\n",
       "\n",
       "    .dataframe thead th {\n",
       "        text-align: right;\n",
       "    }\n",
       "</style>\n",
       "<table border=\"1\" class=\"dataframe\">\n",
       "  <thead>\n",
       "    <tr style=\"text-align: right;\">\n",
       "      <th></th>\n",
       "      <th>Quantity Ordered</th>\n",
       "      <th>Sales</th>\n",
       "    </tr>\n",
       "    <tr>\n",
       "      <th>Month</th>\n",
       "      <th></th>\n",
       "      <th></th>\n",
       "    </tr>\n",
       "  </thead>\n",
       "  <tbody>\n",
       "    <tr>\n",
       "      <th>3</th>\n",
       "      <td>6837</td>\n",
       "      <td>1134228.86</td>\n",
       "    </tr>\n",
       "    <tr>\n",
       "      <th>8</th>\n",
       "      <td>7758</td>\n",
       "      <td>1351743.95</td>\n",
       "    </tr>\n",
       "    <tr>\n",
       "      <th>2</th>\n",
       "      <td>8519</td>\n",
       "      <td>1477797.68</td>\n",
       "    </tr>\n",
       "    <tr>\n",
       "      <th>4</th>\n",
       "      <td>14868</td>\n",
       "      <td>2450146.62</td>\n",
       "    </tr>\n",
       "    <tr>\n",
       "      <th>6</th>\n",
       "      <td>16513</td>\n",
       "      <td>2671518.51</td>\n",
       "    </tr>\n",
       "    <tr>\n",
       "      <th>7</th>\n",
       "      <td>17189</td>\n",
       "      <td>2865839.69</td>\n",
       "    </tr>\n",
       "    <tr>\n",
       "      <th>5</th>\n",
       "      <td>17700</td>\n",
       "      <td>2965580.92</td>\n",
       "    </tr>\n",
       "    <tr>\n",
       "      <th>1</th>\n",
       "      <td>20215</td>\n",
       "      <td>3310915.85</td>\n",
       "    </tr>\n",
       "    <tr>\n",
       "      <th>9</th>\n",
       "      <td>26362</td>\n",
       "      <td>4341266.02</td>\n",
       "    </tr>\n",
       "    <tr>\n",
       "      <th>12</th>\n",
       "      <td>27459</td>\n",
       "      <td>4505197.52</td>\n",
       "    </tr>\n",
       "    <tr>\n",
       "      <th>10</th>\n",
       "      <td>26933</td>\n",
       "      <td>4505926.84</td>\n",
       "    </tr>\n",
       "    <tr>\n",
       "      <th>11</th>\n",
       "      <td>28657</td>\n",
       "      <td>4814944.33</td>\n",
       "    </tr>\n",
       "  </tbody>\n",
       "</table>\n",
       "</div>"
      ],
      "text/plain": [
       "       Quantity Ordered       Sales\n",
       "Month                              \n",
       "3                  6837  1134228.86\n",
       "8                  7758  1351743.95\n",
       "2                  8519  1477797.68\n",
       "4                 14868  2450146.62\n",
       "6                 16513  2671518.51\n",
       "7                 17189  2865839.69\n",
       "5                 17700  2965580.92\n",
       "1                 20215  3310915.85\n",
       "9                 26362  4341266.02\n",
       "12                27459  4505197.52\n",
       "10                26933  4505926.84\n",
       "11                28657  4814944.33"
      ]
     },
     "execution_count": 33,
     "metadata": {},
     "output_type": "execute_result"
    }
   ],
   "source": [
    "# Filter data for the year 2021\n",
    "sales_2020 = df_final[df_final['Year'] == 2020] \n",
    "sales_2020_grouped = sales_2020.groupby('Month')[['Quantity Ordered','Sales']].sum().sort_values('Sales')\n",
    "sales_2020_grouped"
   ]
  },
  {
   "cell_type": "code",
   "execution_count": 34,
   "id": "c2391026",
   "metadata": {},
   "outputs": [
    {
     "data": {
      "image/png": "[encoded data removed]",
      "text/plain": [
       "<Figure size 1200x600 with 1 Axes>"
      ]
     },
     "metadata": {},
     "output_type": "display_data"
    }
   ],
   "source": [
    "plt.figure(figsize=(12, 6))\n",
    "plt.bar(sales_2020_grouped.index, sales_2020_grouped['Sales'])\n",
    "plt.xlabel('Month')\n",
    "plt.ylabel('Total Sales $')\n",
    "plt.title('Monthly Sales for the Year 2020')\n",
    "plt.xticks(sales_2020_grouped.index) \n",
    "plt.show()"
   ]
  },
  {
   "cell_type": "markdown",
   "id": "1021b823",
   "metadata": {},
   "source": [
    "**Note:**"
   ]
  },
  {
   "cell_type": "markdown",
   "id": "58a66585",
   "metadata": {},
   "source": [
    "<span style=\"color:green;\">**End of the year experiences a surge in sales attributed to several factors:**</span>"
   ]
  },
  {
   "cell_type": "markdown",
   "id": "cc172d36",
   "metadata": {},
   "source": [
    "- One notable contributor is stock clearance sales, where many individuals await opportune moments to make purchases at reduced prices during clearance events.\n",
    "- Additionally, the allure of New Year sales and associated offers further stimulates consumer activity during this period.\n",
    "- Furthermore, the festive spirit is enhanced by Christmas sales and associated promotions, creating an environment conducive to increased sales."
   ]
  },
  {
   "cell_type": "markdown",
   "id": "1e7bc8b2",
   "metadata": {},
   "source": [
    "**SQL Query for best month for sales in 2020.**"
   ]
  },
  {
   "cell_type": "raw",
   "id": "89f62269",
   "metadata": {},
   "source": [
    "SELECT\n",
    "    Month,\n",
    "    SUM(QuantityOrdered) AS Quantity,\n",
    "    SUM(Sales) AS Sales\n",
    "FROM\n",
    "    df_final\n",
    "WHERE\n",
    "    Year = 2020\n",
    "GROUP BY\n",
    "    Month\n",
    "ORDER BY\n",
    "    Sales DESC;"
   ]
  },
  {
   "cell_type": "markdown",
   "id": "04f0262f",
   "metadata": {},
   "source": [
    "<span style=\"color:red;\">****Question 2:Which City has the Highest Sales in 2021?**.</span>"
   ]
  },
  {
   "cell_type": "code",
   "execution_count": 35,
   "id": "4cd713fa",
   "metadata": {},
   "outputs": [
    {
     "data": {
      "text/plain": [
       "City\n",
       "Atlanta  (GA)          2542703.73\n",
       "Austin  (TX)           1700282.76\n",
       "Boston  (MA)           3358863.84\n",
       "Dallas  (TX)           2581592.33\n",
       "Los Angeles  (CA)      5086020.72\n",
       "New York City  (NY)    4284611.78\n",
       "Portland  (ME)          464319.54\n",
       "Portland  (OR)         1705084.81\n",
       "San Francisco  (CA)    7699195.80\n",
       "Seattle  (WA)          2598796.08\n",
       "Name: Sales, dtype: float64"
      ]
     },
     "execution_count": 35,
     "metadata": {},
     "output_type": "execute_result"
    }
   ],
   "source": [
    "# Filter data for the year 2021\n",
    "sales_2021 = df_final[df_final['Year'] == 2021]\n",
    "\n",
    "# Group by 'City' and calculate total sales for each city\n",
    "city_sales_2021 = sales_2021.groupby('City')['Sales'].sum()\n",
    "\n",
    "city_sales_2021\n"
   ]
  },
  {
   "cell_type": "code",
   "execution_count": 36,
   "id": "4c17a1cb",
   "metadata": {},
   "outputs": [
    {
     "data": {
      "image/png": "[encoded data removed]",
      "text/plain": [
       "<Figure size 1200x600 with 1 Axes>"
      ]
     },
     "metadata": {},
     "output_type": "display_data"
    }
   ],
   "source": [
    "plt.figure(figsize=(12, 6))\n",
    "city_sales_2021.plot(kind='bar', color='blue')\n",
    "plt.title('Total Sales by City in 2021')\n",
    "plt.xlabel('City')\n",
    "plt.ylabel('Total Sales ($)')\n",
    "plt.xticks(rotation=45, ha='right')\n",
    "plt.show()"
   ]
  },
  {
   "cell_type": "markdown",
   "id": "def89bf2",
   "metadata": {},
   "source": [
    "**SQL Query for best city for sales in 2021.**"
   ]
  },
  {
   "cell_type": "raw",
   "id": "96359c58",
   "metadata": {},
   "source": [
    "SELECT\n",
    "    City,\n",
    "    SUM(Sales) AS Sales\n",
    "FROM\n",
    "    df_final\n",
    "WHERE\n",
    "    Year = 2021\n",
    "GROUP BY\n",
    "    City\n",
    "ORDER BY\n",
    "    Sales DESC\n",
    "LIMIT 1;"
   ]
  },
  {
   "cell_type": "markdown",
   "id": "e79603d9",
   "metadata": {},
   "source": [
    "\n",
    "<span style=\"color:red;\">**Question 3:What Time Should we Display Advertisements to Maximize Likelihood of Customer's Buying Product ?**.</span>"
   ]
  },
  {
   "cell_type": "code",
   "execution_count": 37,
   "id": "0a48e5c3",
   "metadata": {},
   "outputs": [
    {
     "data": {
      "image/png": "[encoded data removed]",
      "text/plain": [
       "<Figure size 2000x500 with 1 Axes>"
      ]
     },
     "metadata": {},
     "output_type": "display_data"
    }
   ],
   "source": [
    "hour = [hr for hr, df_final in df_final.groupby('Hour')]\n",
    "\n",
    "plt.figure(figsize = (20,5))\n",
    "plt.plot(hour, df_final.groupby(['Hour']).count(), color = 'b')\n",
    "plt.xticks(hour)\n",
    "plt.grid()\n",
    "plt.title('Time of the Day when Sales are More.')\n",
    "plt.xlabel('Hours')\n",
    "plt.ylabel('Order Counts');"
   ]
  },
  {
   "cell_type": "markdown",
   "id": "a7b3a7e2",
   "metadata": {},
   "source": [
    "**Note:**\n",
    "\n",
    "<span style=\"color:green;\">**Customers Visits Store or Order more between 10a.m. to 1p.m. and 6p.m. to 9.00p.m.**</span>\n"
   ]
  },
  {
   "cell_type": "markdown",
   "id": "adb8714c",
   "metadata": {},
   "source": [
    "\n",
    "<span style=\"color:red;\">**Question 4:Which Product was Sold Most Frequently?**.</span>\n"
   ]
  },
  {
   "cell_type": "code",
   "execution_count": 38,
   "id": "96a6d200",
   "metadata": {},
   "outputs": [
    {
     "name": "stdout",
     "output_type": "stream",
     "text": [
      "Products sorted by total quantity ordered:\n",
      "Product\n",
      "AAA Batteries (4-pack)        61500\n",
      "AA Batteries (4-pack)         55186\n",
      "USB-C Charging Cable          47098\n",
      "Lightning Charging Cable      45455\n",
      "Wired Headphones              40369\n",
      "Apple Airpods Headphones      30693\n",
      "Bose SoundSport Headphones    26460\n",
      "27in FHD Monitor              14934\n",
      "iPhone                        13742\n",
      "34in Ultrawide Monitor        12179\n",
      "27in 4K Gaming Monitor        12041\n",
      "Google Phone                  10903\n",
      "Macbook Pro Laptop             9518\n",
      "Flatscreen TV                  9511\n",
      "ThinkPad Laptop                8153\n",
      "20in Monitor                   8133\n",
      "Vareebadd Phone                4122\n",
      "LG Washing Machine             1331\n",
      "LG Dryer                       1331\n",
      "Name: Quantity Ordered, dtype: int64\n"
     ]
    }
   ],
   "source": [
    "product_group = df_final.groupby('Product')\n",
    "quantity_ordered = product_group['Quantity Ordered'].sum()\n",
    "\n",
    "sorted_products = quantity_ordered.sort_values(ascending=False)\n",
    "\n",
    "print(\"Products sorted by total quantity ordered:\")\n",
    "print(sorted_products)\n"
   ]
  },
  {
   "cell_type": "code",
   "execution_count": 39,
   "id": "bc9c5d0d",
   "metadata": {},
   "outputs": [
    {
     "data": {
      "image/png": "[encoded data removed]",
      "text/plain": [
       "<Figure size 1200x600 with 1 Axes>"
      ]
     },
     "metadata": {},
     "output_type": "display_data"
    }
   ],
   "source": [
    "plt.figure(figsize=(12, 6))\n",
    "sorted_products.plot(kind='bar', color='blue')\n",
    "plt.title('Total Quantity Ordered for Each Product')\n",
    "plt.xlabel('Product')\n",
    "plt.ylabel('Total Quantity Ordered')\n",
    "plt.xticks(rotation=45, ha='right')\n",
    "plt.show()"
   ]
  },
  {
   "cell_type": "markdown",
   "id": "cacffef3",
   "metadata": {},
   "source": [
    "**Note:**"
   ]
  },
  {
   "cell_type": "markdown",
   "id": "3d0b84d7",
   "metadata": {},
   "source": [
    "\n",
    "<span style=\"color:green;\">- **AA and AAA batteries** are top-selling items, likely due to their widespread use in remote controls, clocks, toys, and various electronic devices.</span>\n",
    "\n",
    "<span style=\"color:green;\">- **Charging cables and headphones** are also essential products for daily use, contributing to their significance in sales.</span>\n",
    "\n",
    "<span style=\"color:green;\">- It's noteworthy that **pricing plays a crucial role in purchasing decisions**. Higher-priced products may not see as frequent purchases, as customers tend to prioritize more affordable options for regular use.</span>\n",
    "\n"
   ]
  },
  {
   "cell_type": "markdown",
   "id": "1cd56054",
   "metadata": {},
   "source": [
    "# The End 👨🏻‍💻"
   ]
  }
 ],
 "metadata": {
  "kernelspec": {
   "display_name": "Python 3 (ipykernel)",
   "language": "python",
   "name": "python3"
  },
  "language_info": {
   "codemirror_mode": {
    "name": "ipython",
    "version": 3
   },
   "file_extension": ".py",
   "mimetype": "text/x-python",
   "name": "python",
   "nbconvert_exporter": "python",
   "pygments_lexer": "ipython3",
   "version": "3.11.5"
  }
 },
 "nbformat": 4,
 "nbformat_minor": 5
}
